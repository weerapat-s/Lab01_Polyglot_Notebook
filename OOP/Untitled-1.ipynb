{
 "cells": [
  {
   "cell_type": "code",
   "execution_count": 28,
   "id": "2d54ad30",
   "metadata": {
    "polyglot_notebook": {
     "kernelName": "csharp"
    }
   },
   "outputs": [],
   "source": [
    "class person  // defind class name\n",
    "{\n",
    "    public string id;\n",
    "   public string name;\n",
    "   public DateOnly birthdate;\n",
    "   public void TellName()\n",
    "   {\n",
    "         Console.WriteLine(name);\n",
    "   }\n",
    "public void Tellid()\n",
    "   {\n",
    "         Console.WriteLine(id);\n",
    "   }\n",
    "public void TellBirthdate()\n",
    "   {\n",
    "         Console.WriteLine(birthdate);\n",
    "   }\n",
    "public void Tellage()\n",
    "   {\n",
    "         Console.WriteLine(\"age\");\n",
    "   }\n",
    "}\n",
    "\n",
    "\n",
    "person  p1 = new person() ;\n",
    "p1. id = \"46584\";\n",
    "p1.name = \"qwertyu\";\n",
    "p1.birthdate = new DateOnly(2000,7,10);"
   ]
  },
  {
   "cell_type": "code",
   "execution_count": 29,
   "metadata": {
    "polyglot_notebook": {
     "kernelName": "csharp"
    }
   },
   "outputs": [],
   "source": [
    "class person  // defind class name\n",
    "{\n",
    "    public string id;\n",
    "   public string name;\n",
    "   public DateOnly birthdate;\n",
    "   public void TellName()\n",
    "   {\n",
    "         Console.WriteLine(name);\n",
    "   }\n",
    "public void Tellid()\n",
    "   {\n",
    "         Console.WriteLine(id);\n",
    "   }\n",
    "public void TellBirthdate()\n",
    "   {\n",
    "         Console.WriteLine(birthdate);\n",
    "   }\n",
    "public void Tellage()\n",
    "   {\n",
    "         Console.WriteLine(\"age\");\n",
    "   }\n",
    "}\n",
    "\n",
    "\n",
    "person  p1 = new person() ;\n",
    "p1. id = \"46584\";\n",
    "p1.name = \"qwertyu\";\n",
    "p1.birthdate = new DateOnly(2000,7,10);"
   ]
  }
 ],
 "metadata": {
  "kernelspec": {
   "display_name": ".NET (C#)",
   "language": "C#",
   "name": ".net-csharp"
  },
  "polyglot_notebook": {
   "kernelInfo": {
    "defaultKernelName": "csharp",
    "items": [
     {
      "aliases": [],
      "languageName": "csharp",
      "name": "csharp"
     }
    ]
   }
  }
 },
 "nbformat": 4,
 "nbformat_minor": 5
}
